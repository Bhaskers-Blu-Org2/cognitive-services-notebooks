{
 "cells": [
  {
   "cell_type": "markdown",
   "metadata": {},
   "source": [
    "# Quickstart for Bing News Search API with Python\n",
    "This walkthrough demonstrates a simple example of calling into the Bing News Search API and post-processing the resulting JSON object. Please refer to the [Bing New Search documentation](https://docs.microsoft.com/rest/api/cognitiveservices/bing-web-api-v7-reference) for more details on the REST APIs.  \n",
    "\n",
    "You can run this example as a Jupyter notebook on [MyBinder](https://mybinder.org) by clicking on the launch Binder badge: \n",
    "\n",
    "[![Binder](https://mybinder.org/badge.svg)](https://mybinder.org/v2/gh/Microsoft/cognitive-services-notebooks/master?filepath=BingNewsSearchAPI.ipynb)\n",
    "\n",
    "## Prerequisites\n",
    "\n",
    "You must have a [Cognitive Services API account](https://docs.microsoft.com/azure/cognitive-services/cognitive-services-apis-create-account) with **Bing Search APIs**. The [free trial](https://azure.microsoft.com/try/cognitive-services/?api=bing-web-search-api) is sufficient for this quickstart. You need the access key provided when you activate your free trial, or you may use a paid subscription key from your Azure dashboard.\n",
    "\n",
    "## Running the walkthrough"
   ]
  },
  {
   "cell_type": "markdown",
   "metadata": {},
   "source": [
    "Please set `subscriptionKey` below to your API key for the Bing API service."
   ]
  },
  {
   "cell_type": "code",
   "execution_count": 2,
   "metadata": {
    "collapsed": true
   },
   "outputs": [],
   "source": [
    "subscription_key = None\n",
    "assert subscription_key"
   ]
  },
  {
   "cell_type": "markdown",
   "metadata": {},
   "source": [
    "Next, please verify that the `search_url` endpoint is correct. At this writing, only one endpoint is used for Bing search APIs.  In the future, regional endpoints may be available.  If you encounter unexpected authorization errors, double-check this value against the endpoint for your Bing search instance in your Azure dashboard."
   ]
  },
  {
   "cell_type": "code",
   "execution_count": 5,
   "metadata": {
    "collapsed": true
   },
   "outputs": [],
   "source": [
    "search_url = \"https://api.cognitive.microsoft.com/bing/v7.0/news/search\""
   ]
  },
  {
   "cell_type": "markdown",
   "metadata": {},
   "source": [
    "We will now search Bing for news about Microsoft!"
   ]
  },
  {
   "cell_type": "code",
   "execution_count": 6,
   "metadata": {
    "collapsed": true
   },
   "outputs": [],
   "source": [
    "search_term = \"Microsoft\""
   ]
  },
  {
   "cell_type": "markdown",
   "metadata": {},
   "source": [
    "The following block uses the `requests` library in Python to call out to the Bing seach APIs and return the results as a JSON object. Observe that we pass in the API key via the `headers` dictionary and the search term via the `params` dictionary. To see the full list of options that can be used to filter search results, please see the [REST API](https://docs.microsoft.com/en-us/rest/api/cognitiveservices/bing-news-api-v7-reference) documentation."
   ]
  },
  {
   "cell_type": "code",
   "execution_count": 7,
   "metadata": {
    "collapsed": true
   },
   "outputs": [],
   "source": [
    "import requests\n",
    "\n",
    "headers = {\"Ocp-Apim-Subscription-Key\" : subscription_key}\n",
    "params  = {\"q\": search_term, \"textDecorations\": True, \"textFormat\": \"HTML\"}\n",
    "response = requests.get(search_url, headers=headers, params=params)\n",
    "response.raise_for_status()\n",
    "search_results = response.json()"
   ]
  },
  {
   "cell_type": "markdown",
   "metadata": {},
   "source": [
    "The `search_results` object contains the relevant new articles along with rich metadata. For example, we can extract the descriptions of the articles using the following line of code."
   ]
  },
  {
   "cell_type": "code",
   "execution_count": 12,
   "metadata": {
    "collapsed": true
   },
   "outputs": [],
   "source": [
    "descriptions = [article[\"description\"] for article in search_results[\"value\"]]"
   ]
  },
  {
   "cell_type": "markdown",
   "metadata": {},
   "source": [
    "We can then render the results in a table with the search keyword highlighted in **bold**."
   ]
  },
  {
   "cell_type": "code",
   "execution_count": 16,
   "metadata": {},
   "outputs": [
    {
     "data": {
      "text/html": [
       "<table><tr><td>In late October, <b>Microsoft</b> reported first quarter revenue that rose 11.9% to $24.54 billion – beating consensus estimates by $980 million – and net income of 84 cents per share beat consensus estimates by 12 cents per share. Shares responded by jumping ...</td></tr>\n",
       "<tr><td>In-N-Out is one of the best companies to work for in the US, according to employees. The burger chain earned the No. 4 spot on Glassdoor&#39;s list of the best places to work in 2018. In-N-Out beat out tech giants like Google and <b>Microsoft</b> in the ranking.</td></tr>\n",
       "<tr><td>Today, at the Qualcomm Snapdragon Tech Summit, <b>Microsoft</b> and Qualcomm officially unveiled the first ARM-powered Windows 10 laptops. These devices, referred to as Always Connected PCs, are always on, always connected (via LTE), and promise &quot;incredible ...</td></tr>\n",
       "<tr><td>“<b>Microsoft</b> Monday” is a weekly column that focuses on all things <b>Microsoft</b>. This week, <b>Microsoft</b> Monday includes details about the major Redmond campus expansion, Edge for Android and iOS, a job listing hinting at a Surface with a Snapdragon 845 ...</td></tr>\n",
       "<tr><td>Could Windows Phone return? Maybe. At a Q&amp;A with <b>Microsoft</b> and Qualcomm execs at Qualcomm&#39;s Snapdragon Summit, Qualcomm&#39;s Miguel Nunes said &quot;different form factors&quot; are coming for Windows 10 on Snapdragon, and <b>Microsoft</b>&#39;s Erin Chapple didn&#39;t count out the ...</td></tr>\n",
       "<tr><td>A big part of <b>Microsoft</b>&#39;s project is to introduce a massive green roof and put its acres of surface parking under a soccer field. <b>Microsoft</b>&#39;s soon-to-be revamped Silicon Valley office will be designed to entirely remove its reliance on water from municipal ...</td></tr>\n",
       "<tr><td>It&#39;s a new era for <b>Microsoft</b> (NASDAQ:MSFT). Under prior CEO Steve Ballmer, the company experienced a lost decade for failing to adjust to the shift to mobile and falling behind various competitors -- notably Apple in smartphones and tablets, Alphabet in ...</td></tr>\n",
       "<tr><td><b>Microsoft</b> continued its support for the Kubernetes open source project today, with the unveiling of several enhancements to systems that are designed to make it easier for developers to connect that system with the tech titan’s Azure cloud platform.</td></tr>\n",
       "<tr><td>Being transported to a virtual world can be fantastic -- until you realize what you&#39;ve left behind. No email, no instant messages from friends or family, no TV in the background, no streaming tunes, no Tweets or Snaps or Likes. The Fear of Missing Out ...</td></tr>\n",
       "<tr><td>After a long wait time, <b>Microsoft</b>’s Office apps are now finally available on all Chromebooks — though it’ll be useless if you have a larger Chromebook. Office apps have long been corralled to only a particular set of Chromebooks, with no apparent ...</td></tr></table>"
      ],
      "text/plain": [
       "<IPython.core.display.HTML object>"
      ]
     },
     "execution_count": 16,
     "metadata": {},
     "output_type": "execute_result"
    }
   ],
   "source": [
    "from IPython.display import HTML\n",
    "rows = \"\\n\".join([\"<tr><td>{0}</td></tr>\".format(desc) for desc in descriptions])\n",
    "HTML(\"<table>\"+rows+\"</table>\")"
   ]
  },
  {
   "cell_type": "markdown",
   "metadata": {},
   "source": [
    "## Next steps\n",
    "\n",
    "> [!div class=\"nextstepaction\"]\n",
    "> [Paging news](paging-news.md)\n",
    "> [Using decoration markers to highlight text](hit-highlighting.md)\n",
    "\n",
    "## See also \n",
    "\n",
    " [Searching the web for news](search-the-web.md)  \n",
    " [Try it](https://azure.microsoft.com/services/cognitive-services/bing-news-search-api/)"
   ]
  }
 ],
 "metadata": {
  "kernelspec": {
   "display_name": "Python 3",
   "language": "python",
   "name": "python3"
  },
  "language_info": {
   "codemirror_mode": {
    "name": "ipython",
    "version": 3
   },
   "file_extension": ".py",
   "mimetype": "text/x-python",
   "name": "python",
   "nbconvert_exporter": "python",
   "pygments_lexer": "ipython3",
   "version": "3.6.3"
  },
  "ms_docs_meta": {
   "author": "jerrykindall",
   "description": "Get information and code samples to help you quickly get started using the Bing News Search API in Microsoft Cognitive Services on Azure.",
   "documentationcenter": "''",
   "ms.author": "v-jerkin",
   "ms.date": "9/21/2017",
   "ms.service": "cognitive-services",
   "ms.technology": "bing-search",
   "ms.topic": "article",
   "services": "cognitive-services",
   "title": "Python Quickstart for Azure Cognitive Services, Bing News Search API | Microsoft Docs"
  }
 },
 "nbformat": 4,
 "nbformat_minor": 2
}
